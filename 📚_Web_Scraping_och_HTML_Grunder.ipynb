{
  "nbformat": 4,
  "nbformat_minor": 0,
  "metadata": {
    "colab": {
      "provenance": [],
      "authorship_tag": "ABX9TyOHC/nixGRRYLq+SVa389GD",
      "include_colab_link": true
    },
    "kernelspec": {
      "name": "python3",
      "display_name": "Python 3"
    },
    "language_info": {
      "name": "python"
    }
  },
  "cells": [
    {
      "cell_type": "markdown",
      "metadata": {
        "id": "view-in-github",
        "colab_type": "text"
      },
      "source": [
        "<a href=\"https://colab.research.google.com/github/TechnicalMindset/python-labs-/blob/main/%F0%9F%93%9A_Web_Scraping_och_HTML_Grunder.ipynb\" target=\"_parent\"><img src=\"https://colab.research.google.com/assets/colab-badge.svg\" alt=\"Open In Colab\"/></a>"
      ]
    },
    {
      "cell_type": "code",
      "execution_count": null,
      "metadata": {
        "id": "cEuliSHj4fbw"
      },
      "outputs": [],
      "source": []
    },
    {
      "cell_type": "markdown",
      "source": [
        "# 📚 Web Scraping och HTML Grunder\n",
        "\n",
        "## 📌 Viktiga punkter och koncept\n",
        "\n",
        "### 1️⃣ **HTML-struktur och dokumentträd**\n",
        "\n",
        "HTML (Hypertext Markup Language) är grunden för webbsidor. Att förstå dess struktur är avgörande för web scraping.\n",
        "\n",
        "- **HTML-träd**: HTML-dokument är strukturerade som träd med **element (taggar)** och **attribut**.\n",
        "- **Viktiga HTML-taggar**:\n",
        "  - `<html>`: Roten för dokumentet.\n",
        "  - `<head>`: Innehåller metadata.\n",
        "  - `<body>`: Visar sidans innehåll.\n",
        "  - `<h1> - <h6>`: Rubriker.\n",
        "  - `<p>`: Stycken.\n",
        "  - `<table>`: Tabeller.\n",
        "- **Exempel**:\n",
        "  ```html\n",
        "  <html>\n",
        "      <head>\n",
        "          <title>Min webbsida</title>\n",
        "      </head>\n",
        "      <body>\n",
        "          <h1>Välkommen</h1>\n",
        "          <p>Detta är en testwebbsida.</p>\n",
        "      </body>\n",
        "  </html>\n",
        "  ```\n",
        "\n",
        "### 2️⃣ **Web scraping - Processen**\n",
        "\n",
        "Web scraping är processen att automatiskt extrahera information från webbplatser.\n",
        "\n",
        "1. **HTTP-förfrågan**: Skicka en begäran till en webbsida (ofta med Python `requests`).\n",
        "2. **Hämta HTML-innehållet**: Webbsidans HTML returneras.\n",
        "3. **Parsing av HTML**: Använd `BeautifulSoup` för att navigera och extrahera data.\n",
        "4. **Extrahera data**: Identifiera och filtrera specifika HTML-element.\n",
        "5. **Lagra data**: Spara i databaser, CSV, JSON etc.\n",
        "\n",
        "- **Exempel på enkel scraping med Python och BeautifulSoup:**\n",
        "  ```python\n",
        "  import requests\n",
        "  from bs4 import BeautifulSoup\n",
        "\n",
        "  url = 'https://en.wikipedia.org/wiki/IBM'\n",
        "  response = requests.get(url)\n",
        "  soup = BeautifulSoup(response.text, 'html.parser')\n",
        "\n",
        "  for link in soup.find_all('a'):\n",
        "      print(link.text)\n",
        "  ```\n",
        "\n",
        "### 3️⃣ **HTML-tabeller och datautvinning**\n",
        "\n",
        "Tabeller används ofta för att visa strukturerad data på webbsidor.\n",
        "- **Struktur:**\n",
        "  ```html\n",
        "  <table>\n",
        "      <tr>\n",
        "          <th>Namn</th>\n",
        "          <th>Ålder</th>\n",
        "      </tr>\n",
        "      <tr>\n",
        "          <td>Anna</td>\n",
        "          <td>25</td>\n",
        "      </tr>\n",
        "  </table>\n",
        "  ```\n",
        "- **Extrahera tabeller med Pandas:**\n",
        "  ```python\n",
        "  import pandas as pd\n",
        "  tables = pd.read_html('https://example.com')\n",
        "  print(tables[0])\n",
        "  ```\n",
        "\n",
        "---\n",
        "## ✅ **Frågor för att stärka förståelsen**:\n",
        "\n",
        "### ✅ **Fråga 1: Vad är syftet med web scraping?**\n",
        "- a. Skapa webbsidor\n",
        "- b. Extrahera information från webbplatser\n",
        "- c. Skicka e-post\n",
        "- d. Skriva CSS\n",
        "\n",
        "**🏆️ Rätt svar: b. Extrahera information från webbplatser**\n",
        "\n",
        "---\n",
        "### ✅ **Fråga 2: Vilket Python-bibliotek används för att analysera HTML?**\n",
        "- a. NumPy\n",
        "- b. BeautifulSoup\n",
        "- c. Matplotlib\n",
        "- d. Flask\n",
        "\n",
        "**🏆️ Rätt svar: b. BeautifulSoup**\n",
        "\n",
        "---\n",
        "### ✅ **Fråga 3: Vilken HTML-tagg används för att skapa en tabell?**\n",
        "- a. `<div>`\n",
        "- b. `<table>`\n",
        "- c. `<span>`\n",
        "- d. `<form>`\n",
        "\n",
        "**🏆️ Rätt svar: b. `<table>`**\n",
        "\n",
        "---\n",
        "## 📋 **Sammanfattning och Reflektion**:\n",
        "\n",
        "- **HTML-struktur:** Förståelse för HTML-träd och taggar är viktigt för web scraping.\n",
        "- **Web scraping-processen:** HTTP-förfrågor, HTML-parsing och dataextraktion.\n",
        "- **Datautvinning:** Pandas och BeautifulSoup används för att navigera och extrahera data effektivt.\n",
        "\n",
        "💡 Att kunna extrahera och analysera data från webbsidor är en värdefull färdighet för dataanalys, AI och automatisering!\n",
        "\n"
      ],
      "metadata": {
        "id": "im8PZxYs4gHj"
      }
    },
    {
      "cell_type": "markdown",
      "source": [],
      "metadata": {
        "id": "aknreM8W4-lr"
      }
    }
  ]
}