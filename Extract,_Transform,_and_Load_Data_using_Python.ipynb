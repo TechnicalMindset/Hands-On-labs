{
  "nbformat": 4,
  "nbformat_minor": 0,
  "metadata": {
    "colab": {
      "provenance": [],
      "authorship_tag": "ABX9TyP5ANPMK5cqdp6YV0bH+cZl",
      "include_colab_link": true
    },
    "kernelspec": {
      "name": "python3",
      "display_name": "Python 3"
    },
    "language_info": {
      "name": "python"
    }
  },
  "cells": [
    {
      "cell_type": "markdown",
      "metadata": {
        "id": "view-in-github",
        "colab_type": "text"
      },
      "source": [
        "<a href=\"https://colab.research.google.com/github/TechnicalMindset/Hands-On-labs/blob/main/Extract%2C_Transform%2C_and_Load_Data_using_Python.ipynb\" target=\"_parent\"><img src=\"https://colab.research.google.com/assets/colab-badge.svg\" alt=\"Open In Colab\"/></a>"
      ]
    },
    {
      "cell_type": "markdown",
      "source": [
        "# 📊 **ETL Lab – Extract, Transform, Load i Python**\n",
        "\n",
        "---\n",
        "\n",
        "## 🧠 **Introduktion**\n",
        "\n",
        "**ETL står för \"Extract, Transform, Load\".** Det är en vanlig process inom datahantering där data hämtas från olika källor (extract), bearbetas (transform), och sparas i ett strukturerat format (load).\n",
        "\n",
        "I detta labb kommer vi:\n",
        "- Läsa filer i formaten **CSV**, **JSON** och **XML**\n",
        "- Transformera och kombinera datan\n",
        "- Spara den i ett **CSV-format** och **ladda in den i en SQLite-databas**\n",
        "- Göra lite grundläggande **analys och visualisering**\n",
        "\n",
        "---\n",
        "\n",
        "## 📁 **Steg 1: Importera bibliotek**\n",
        "\n",
        "```python\n",
        "import pandas as pd\n",
        "import json\n",
        "import xml.etree.ElementTree as ET\n",
        "import sqlite3\n",
        "import matplotlib.pyplot as plt\n",
        "import seaborn as sns\n"
      ],
      "metadata": {
        "id": "MJopAwVRbOR_"
      }
    },
    {
      "cell_type": "markdown",
      "source": [
        "#**📄 Steg 2: Läs in CSV-data**\n",
        "\n"
      ],
      "metadata": {
        "id": "gqbQGAfvbQbP"
      }
    },
    {
      "cell_type": "code",
      "source": [
        "csv_data = pd.DataFrame({\n",
        "    'id': [1, 2, 3],\n",
        "    'name': ['Alice', 'Bob', 'Charlie'],\n",
        "    'age': [25, 30, 35]\n",
        "})\n",
        "csv_data.to_csv(\"people.csv\", index=False)\n",
        "\n",
        "df_csv = pd.read_csv(\"people.csv\")\n",
        "print(\"📄 CSV data:\")\n",
        "print(df_csv)"
      ],
      "metadata": {
        "id": "gmyWrtW2bgyR"
      },
      "execution_count": null,
      "outputs": []
    },
    {
      "cell_type": "markdown",
      "source": [
        "#**📄 Steg 3: Läs in JSON-data**"
      ],
      "metadata": {
        "id": "5O9u_E0xbhxv"
      }
    },
    {
      "cell_type": "code",
      "source": [
        "json_data = {\n",
        "    \"employees\": [\n",
        "        {\"id\": 4, \"name\": \"Diana\", \"age\": 28},\n",
        "        {\"id\": 5, \"name\": \"Ethan\", \"age\": 40}\n",
        "    ]\n",
        "}\n",
        "\n",
        "with open(\"people.json\", \"w\") as f:\n",
        "    json.dump(json_data, f)\n",
        "\n",
        "with open(\"people.json\", \"r\") as f:\n",
        "    data_json = json.load(f)\n",
        "\n",
        "df_json = pd.DataFrame(data_json[\"employees\"])\n",
        "print(\"\\n📄 JSON data:\")\n",
        "print(df_json)\n"
      ],
      "metadata": {
        "id": "fu44ceAVbk8q"
      },
      "execution_count": null,
      "outputs": []
    },
    {
      "cell_type": "markdown",
      "source": [
        "#**📄 Steg 4: Läs in XML-data**"
      ],
      "metadata": {
        "id": "-kooUszfboEr"
      }
    },
    {
      "cell_type": "code",
      "source": [
        "xml_content = '''<?xml version=\"1.0\"?>\n",
        "<people>\n",
        "    <person>\n",
        "        <id>6</id>\n",
        "        <name>Fiona</name>\n",
        "        <age>22</age>\n",
        "    </person>\n",
        "    <person>\n",
        "        <id>7</id>\n",
        "        <name>George</name>\n",
        "        <age>33</age>\n",
        "    </person>\n",
        "</people>\n",
        "'''\n",
        "\n",
        "with open(\"people.xml\", \"w\") as f:\n",
        "    f.write(xml_content)\n",
        "\n",
        "tree = ET.parse(\"people.xml\")\n",
        "root = tree.getroot()\n",
        "\n",
        "xml_data = []\n",
        "for person in root.findall(\"person\"):\n",
        "    id_ = int(person.find(\"id\").text)\n",
        "    name = person.find(\"name\").text\n",
        "    age = int(person.find(\"age\").text)\n",
        "    xml_data.append({\"id\": id_, \"name\": name, \"age\": age})\n",
        "\n",
        "df_xml = pd.DataFrame(xml_data)\n",
        "print(\"\\n📄 XML data:\")\n",
        "print(df_xml)\n"
      ],
      "metadata": {
        "id": "w8QRxXeSbsir"
      },
      "execution_count": null,
      "outputs": []
    },
    {
      "cell_type": "markdown",
      "source": [
        "#**🔁 Steg 5: Transformera och kombinera datan**"
      ],
      "metadata": {
        "id": "rRxYtRZKbwIs"
      }
    },
    {
      "cell_type": "code",
      "source": [
        "df_all = pd.concat([df_csv, df_json, df_xml], ignore_index=True)\n",
        "\n",
        "# Säkerställ datatyper\n",
        "df_all[\"id\"] = df_all[\"id\"].astype(int)\n",
        "df_all[\"name\"] = df_all[\"name\"].astype(str)\n",
        "df_all[\"age\"] = df_all[\"age\"].astype(int)\n",
        "\n",
        "print(\"\\n👉 Sammanfogad data:\")\n",
        "print(df_all)\n"
      ],
      "metadata": {
        "id": "_5w3c7M2bz6e"
      },
      "execution_count": null,
      "outputs": []
    },
    {
      "cell_type": "markdown",
      "source": [
        "#**🧹 Steg 6: Rensa data**"
      ],
      "metadata": {
        "id": "VO1R95b4b31P"
      }
    },
    {
      "cell_type": "code",
      "source": [
        "# Lägg till en duplicerad rad och en rad med null-värde\n",
        "df_all.loc[len(df_all)] = [2, \"Bob\", 30]\n",
        "df_all.loc[len(df_all)] = [8, None, None]\n",
        "\n",
        "print(\"\\n🔍 Före rensning:\")\n",
        "print(df_all)\n",
        "\n",
        "# Ta bort null-värden\n",
        "df_all = df_all.dropna()\n",
        "\n",
        "# Ta bort dubbletter\n",
        "df_all = df_all.drop_duplicates()\n",
        "\n",
        "print(\"\\n✅ Efter rensning:\")\n",
        "print(df_all)\n"
      ],
      "metadata": {
        "id": "aS0K2OlEb7zP"
      },
      "execution_count": null,
      "outputs": []
    },
    {
      "cell_type": "markdown",
      "source": [
        "#**📈 Steg 7: Enkel dataanalys**"
      ],
      "metadata": {
        "id": "yl-Y_fiWb_Lp"
      }
    },
    {
      "cell_type": "code",
      "source": [
        "print(\"\\n📊 Statistik:\")\n",
        "print(df_all.describe())\n",
        "\n",
        "print(\"\\n👥 Antal personer per ålder:\")\n",
        "print(df_all.groupby(\"age\").count()[[\"name\"]])\n"
      ],
      "metadata": {
        "id": "4rSd7R9xcCZi"
      },
      "execution_count": null,
      "outputs": []
    },
    {
      "cell_type": "markdown",
      "source": [
        "#**🖼️ Steg 8: Visualisering**"
      ],
      "metadata": {
        "id": "-53oJkz5cEsB"
      }
    },
    {
      "cell_type": "code",
      "source": [
        "plt.figure(figsize=(6, 4))\n",
        "sns.histplot(df_all[\"age\"], kde=True, bins=5)\n",
        "plt.title(\"Åldersfördelning\")\n",
        "plt.xlabel(\"Ålder\")\n",
        "plt.ylabel(\"Antal personer\")\n",
        "plt.grid(True)\n",
        "plt.show()\n"
      ],
      "metadata": {
        "id": "W9hFFMjQcJ3F"
      },
      "execution_count": null,
      "outputs": []
    },
    {
      "cell_type": "markdown",
      "source": [
        "#**💾 Steg 9: Spara den transformerade datan till CSV**"
      ],
      "metadata": {
        "id": "zNyQMbh0cMbA"
      }
    },
    {
      "cell_type": "code",
      "source": [
        "df_all.to_csv(\"transformed_data.csv\", index=False)\n",
        "print(\"\\n💾 Datan sparades till 'transformed_data.csv'\")"
      ],
      "metadata": {
        "id": "14gzFQefcPdS"
      },
      "execution_count": null,
      "outputs": []
    },
    {
      "cell_type": "markdown",
      "source": [
        "#**🗄️ Steg 10: Ladda datan till en SQLite-databas**"
      ],
      "metadata": {
        "id": "xkUJhe5BcRyv"
      }
    },
    {
      "cell_type": "code",
      "source": [
        "conn = sqlite3.connect(\"people.db\")\n",
        "cursor = conn.cursor()\n",
        "\n",
        "cursor.execute(\"\"\"\n",
        "CREATE TABLE IF NOT EXISTS people (\n",
        "    id INTEGER PRIMARY KEY,\n",
        "    name TEXT,\n",
        "    age INTEGER\n",
        ")\n",
        "\"\"\")\n",
        "\n",
        "df_all.to_sql(\"people\", conn, if_exists=\"replace\", index=False)\n",
        "\n",
        "print(\"\\n🔄 Data i SQLite-databasen:\")\n",
        "result = pd.read_sql(\"SELECT * FROM people\", conn)\n",
        "print(result)\n",
        "\n",
        "conn.close()\n"
      ],
      "metadata": {
        "id": "lk3QVpGDcXNN"
      },
      "execution_count": null,
      "outputs": []
    },
    {
      "cell_type": "markdown",
      "source": [
        "## **Open Source Collaboration Notice** ⚠️\n",
        "\n",
        "- This work is open source and is released under the **Creative Commons Attribution-NonCommercial (CC BY-NC)** License.\n",
        "- This project has been made possible through the contributions of **IBM Corporation**.\n",
        "\n",
        "The practical Quiz, originally developed by **IBM**, has been recreated and further refined by **Alison Rodriguez x Technical Mindset** for educational and personal use."
      ],
      "metadata": {
        "id": "5s5lqTl8cWH2"
      }
    }
  ]
}