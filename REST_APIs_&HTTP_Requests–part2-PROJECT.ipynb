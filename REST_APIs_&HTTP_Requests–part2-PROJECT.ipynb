{
  "nbformat": 4,
  "nbformat_minor": 0,
  "metadata": {
    "colab": {
      "provenance": [],
      "authorship_tag": "ABX9TyPqZiFqRIRp8NAUMY354SDY",
      "include_colab_link": true
    },
    "kernelspec": {
      "name": "python3",
      "display_name": "Python 3"
    },
    "language_info": {
      "name": "python"
    }
  },
  "cells": [
    {
      "cell_type": "markdown",
      "metadata": {
        "id": "view-in-github",
        "colab_type": "text"
      },
      "source": [
        "<a href=\"https://colab.research.google.com/github/TechnicalMindset/python-labs-/blob/main/REST_APIs_%26_HTTP_Requests_%E2%80%93_Del_2.ipynb\" target=\"_parent\"><img src=\"https://colab.research.google.com/assets/colab-badge.svg\" alt=\"Open In Colab\"/></a>"
      ]
    },
    {
      "cell_type": "code",
      "execution_count": null,
      "metadata": {
        "id": "ffo4Khca0dxe"
      },
      "outputs": [],
      "source": []
    },
    {
      "cell_type": "markdown",
      "source": [
        "\n",
        "# 🌐 REST APIs & HTTP Requests – Del 2\n",
        "\n",
        "I denna sammanfattning går vi igenom **HTTP-protokollet** och dess hantering i Python med **Requests-biblioteket**. Vi fokuserar på **GET** och **POST**-förfrågningar och hur de fungerar i praktiken.\n",
        "\n",
        "---\n",
        "\n",
        "## 🔧 Requests-biblioteket i Python  \n",
        "Requests är ett populärt Python-bibliotek som gör det enkelt att skicka HTTP/1.1-förfrågningar.\n",
        "\n",
        "### 📌 Installera Requests\n",
        "```python\n",
        "pip install requests\n",
        "```\n",
        "\n",
        "### 📌 Importera biblioteket\n",
        "```python\n",
        "import requests\n",
        "```\n",
        "\n",
        "---\n",
        "\n",
        "## 📩 **GET-förfrågan (Hämta data)**\n",
        "Med **GET** hämtar vi data från en server. Exempel:\n",
        "```python\n",
        "r = requests.get(\"https://www.ibm.com\")\n",
        "print(r.status_code)  # 200 (OK)\n",
        "print(r.headers)  # Visar HTTP-headern\n",
        "print(r.text[:100])  # Visar de första 100 tecknen i svaret\n",
        "```\n",
        "\n",
        "**🔹 Viktiga koncept i GET:**\n",
        "- **URL-parametrar** skickas i URL:en efter `?`\n",
        "- Parametrar separeras med `&`  \n",
        "- Inget **body**-innehåll skickas\n",
        "\n",
        "### 📌 Exempel med API\n",
        "```python\n",
        "payload = {\"name\": \"Joseph\", \"ID\": \"123\"}\n",
        "r = requests.get(\"https://httpbin.org/get\", params=payload)\n",
        "print(r.url)  # URL med parametrar\n",
        "print(r.json())  # Returnerar JSON som Python-dict\n",
        "```\n",
        "\n",
        "---\n",
        "\n",
        "## 📨 **POST-förfrågan (Skicka data)**\n",
        "Med **POST** skickar vi data till en server i **body** istället för URL:en.\n",
        "\n",
        "### 📌 Exempel på POST-förfrågan\n",
        "```python\n",
        "payload = {\"username\": \"Alison\", \"password\": \"123456\"}\n",
        "r = requests.post(\"https://httpbin.org/post\", data=payload)\n",
        "print(r.json())  # Returnerar JSON-svar\n",
        "```\n",
        "\n",
        "**🔹 Viktiga koncept i POST:**\n",
        "- Data skickas i **body**, ej i URL:en\n",
        "- Mer säker än GET för att skicka känslig data\n",
        "\n",
        "---\n",
        "\n",
        "## ✅ **Frågor för förståelse**\n",
        "1️⃣ Vad är skillnaden mellan en **GET**- och en **POST**-förfrågan?  \n",
        "2️⃣ Hur kan vi skicka **URL-parametrar** i en GET-förfrågan?  \n",
        "3️⃣ Vilken metod är bättre för att skicka **lösenord** och varför?  \n",
        "4️⃣ Vad gör `r.json()` i en HTTP-förfrågan?  \n",
        "\n",
        "---\n",
        "\n",
        "## 📝 **Svar på frågorna**\n",
        "1️⃣ **GET** hämtar data och skickar parametrar i URL:en, medan **POST** skickar data i **body**.  \n",
        "2️⃣ Vi använder `params` i `requests.get()`, t.ex.:  \n",
        "   ```python\n",
        "   requests.get(\"https://httpbin.org/get\", params={\"name\": \"Alison\"})\n",
        "   ```  \n",
        "3️⃣ **POST**, eftersom data skickas i **body** istället för i URL:en (synlig för alla).  \n",
        "4️⃣ `r.json()` konverterar JSON-svaret till en **Python-dictionary**.  \n",
        "\n",
        "---\n",
        "\n",
        "📚 **Fortsätt utforska!** Testa att kombinera GET och POST med andra HTTP-metoder som **PUT** och **DELETE** för att hantera API-förfrågningar mer dynamiskt. 🚀\n",
        "```\n",
        "\n",
        "Denna Markdown-struktur gör det enkelt att förstå och kopiera koden till dina egna projekt. 🎯💡"
      ],
      "metadata": {
        "id": "pLrkjwfw0eYt"
      }
    },
    {
      "cell_type": "markdown",
      "source": [],
      "metadata": {
        "id": "PyN_M4LG0hOn"
      }
    },
    {
      "cell_type": "markdown",
      "source": [
        "## **Open Source Collaboration Notice** ⚠️\n",
        "\n",
        "- This work is open source and is released under the **Creative Commons Attribution-NonCommercial (CC BY-NC)** License.\n",
        "\n",
        "- This project has been made possible through the contributions of **IBM Corporation**.\n",
        "\n",
        "The lab, originally developed by **IBM**, has been recreated and further refined by **Alison Rodriguez x Technical Mindset** for educational and personal use."
      ],
      "metadata": {
        "id": "6lyTsYf-bvOv"
      }
    }
  ]
}
