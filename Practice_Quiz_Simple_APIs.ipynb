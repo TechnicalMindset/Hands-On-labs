{
  "nbformat": 4,
  "nbformat_minor": 0,
  "metadata": {
    "colab": {
      "provenance": [],
      "authorship_tag": "ABX9TyMlWrltNhpI/7FSqlUaQmvP",
      "include_colab_link": true
    },
    "kernelspec": {
      "name": "python3",
      "display_name": "Python 3"
    },
    "language_info": {
      "name": "python"
    }
  },
  "cells": [
    {
      "cell_type": "markdown",
      "metadata": {
        "id": "view-in-github",
        "colab_type": "text"
      },
      "source": [
        "<a href=\"https://colab.research.google.com/github/TechnicalMindset/python-labs-/blob/main/Practice_Quiz_Simple_APIs.ipynb\" target=\"_parent\"><img src=\"https://colab.research.google.com/assets/colab-badge.svg\" alt=\"Open In Colab\"/></a>"
      ]
    },
    {
      "cell_type": "code",
      "execution_count": null,
      "metadata": {
        "id": "e8jyEamQwHuT"
      },
      "outputs": [],
      "source": []
    },
    {
      "cell_type": "markdown",
      "source": [
        "# 🌟 API Quiz - Interactive Format for Jupyter Notebook  \n",
        "\n",
        "## 💡 Question 1: What does API stand for?  \n",
        "- a. Application Process Interface  \n",
        "- b. Application Programming Interaction  \n",
        "- c. Application Programming Interface  \n",
        "- d. Automatic Program Interaction  \n",
        "\n",
        "<details><summary>Click here for the solution</summary>  \n",
        "\n",
        "✅ **Correct Answer:** **c. Application Programming Interface** 🏆✨  \n",
        "\n",
        "📌 **Explanation:**  \n",
        "An API (Application Programming Interface) is a set of rules that allows different software applications to communicate with each other. It acts as an intermediary between different programs or services.  \n",
        "\n",
        "</details>  \n",
        "\n",
        "---\n",
        "\n",
        "## 💡 Question 2: Which data format is commonly found in the HTTP message for API requests?  \n",
        "- a. JSON  \n",
        "- b. XML  \n",
        "- c. HTML  \n",
        "- d. YAML  \n",
        "\n",
        "<details><summary>Click here for the solution</summary>  \n",
        "\n",
        "✅ **Correct Answer:** **a. JSON** 🏆✨  \n",
        "\n",
        "📌 **Explanation:**  \n",
        "JSON (JavaScript Object Notation) is the most commonly used data format in API requests because of its lightweight structure and easy readability. APIs also support XML, but JSON is more widely used due to its efficiency in parsing.  \n",
        "\n",
        "</details>  \n",
        "\n",
        "---\n",
        "\n",
        "## 💡 Question 3: What is the primary purpose of an API?  \n",
        "- a. To handle server-side database operations.  \n",
        "- b. To connect and enable communication between software applications.  \n",
        "- c. To design user interfaces for mobile applications.  \n",
        "- d. To provide security to web applications.  \n",
        "\n",
        "<details><summary>Click here for the solution</summary>  \n",
        "\n",
        "✅ **Correct Answer:** **b. To connect and enable communication between software applications.** 🏆✨  \n",
        "\n",
        "📌 **Explanation:**  \n",
        "APIs serve as intermediaries that allow different software applications to interact with each other, enabling seamless data exchange and integration across platforms.  \n",
        "\n",
        "</details>  \n"
      ],
      "metadata": {
        "id": "F2NQq-q_wITb"
      }
    },
    {
      "cell_type": "markdown",
      "source": [],
      "metadata": {
        "id": "qEIj_WrcwLCs"
      }
    },
    {
      "cell_type": "markdown",
      "source": [
        "## **Open Source Collaboration Notice** ⚠️\n",
        "\n",
        "- This work is open source and is released under the **Creative Commons Attribution-NonCommercial (CC BY-NC)** License.\n",
        "- This project has been made possible through the contributions of **IBM Corporation**.\n",
        "\n",
        "The practical Quiz, originally developed by **IBM**, has been recreated and further refined by **Alison Rodriguez x Technical Mindset** for educational and personal use."
      ],
      "metadata": {
        "id": "c7Ou03QHqcu-"
      }
    }
  ]
}